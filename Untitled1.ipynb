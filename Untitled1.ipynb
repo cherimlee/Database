{
 "cells": [
  {
   "cell_type": "code",
   "execution_count": null,
   "id": "cd874db3",
   "metadata": {},
   "outputs": [],
   "source": []
  },
  {
   "cell_type": "code",
   "execution_count": null,
   "id": "113d3461",
   "metadata": {},
   "outputs": [],
   "source": [
    "## financedatareader"
   ]
  },
  {
   "cell_type": "code",
   "execution_count": 1,
   "id": "4ad3604d",
   "metadata": {
    "collapsed": true
   },
   "outputs": [
    {
     "name": "stdout",
     "output_type": "stream",
     "text": [
      "Collecting finance-datareader\n",
      "  Downloading finance_datareader-0.9.31-py3-none-any.whl (17 kB)\n",
      "Collecting requests-file\n",
      "  Downloading requests_file-1.5.1-py2.py3-none-any.whl (3.7 kB)\n",
      "Requirement already satisfied: tqdm in c:\\users\\bitcamp\\anaconda3\\lib\\site-packages (from finance-datareader) (4.62.3)\n",
      "Requirement already satisfied: requests>=2.3.0 in c:\\users\\bitcamp\\anaconda3\\lib\\site-packages (from finance-datareader) (2.26.0)\n",
      "Requirement already satisfied: pandas>=0.19.2 in c:\\users\\bitcamp\\anaconda3\\lib\\site-packages (from finance-datareader) (1.3.4)\n",
      "Requirement already satisfied: lxml in c:\\users\\bitcamp\\anaconda3\\lib\\site-packages (from finance-datareader) (4.6.3)\n",
      "Requirement already satisfied: pytz>=2017.3 in c:\\users\\bitcamp\\anaconda3\\lib\\site-packages (from pandas>=0.19.2->finance-datareader) (2021.3)\n",
      "Requirement already satisfied: numpy>=1.17.3 in c:\\users\\bitcamp\\anaconda3\\lib\\site-packages (from pandas>=0.19.2->finance-datareader) (1.20.3)\n",
      "Requirement already satisfied: python-dateutil>=2.7.3 in c:\\users\\bitcamp\\anaconda3\\lib\\site-packages (from pandas>=0.19.2->finance-datareader) (2.8.2)\n",
      "Requirement already satisfied: six>=1.5 in c:\\users\\bitcamp\\anaconda3\\lib\\site-packages (from python-dateutil>=2.7.3->pandas>=0.19.2->finance-datareader) (1.16.0)\n",
      "Requirement already satisfied: urllib3<1.27,>=1.21.1 in c:\\users\\bitcamp\\anaconda3\\lib\\site-packages (from requests>=2.3.0->finance-datareader) (1.26.7)\n",
      "Requirement already satisfied: charset-normalizer~=2.0.0 in c:\\users\\bitcamp\\anaconda3\\lib\\site-packages (from requests>=2.3.0->finance-datareader) (2.0.4)\n",
      "Requirement already satisfied: certifi>=2017.4.17 in c:\\users\\bitcamp\\anaconda3\\lib\\site-packages (from requests>=2.3.0->finance-datareader) (2021.10.8)\n",
      "Requirement already satisfied: idna<4,>=2.5 in c:\\users\\bitcamp\\anaconda3\\lib\\site-packages (from requests>=2.3.0->finance-datareader) (3.2)\n",
      "Requirement already satisfied: colorama in c:\\users\\bitcamp\\anaconda3\\lib\\site-packages (from tqdm->finance-datareader) (0.4.4)\n",
      "Installing collected packages: requests-file, finance-datareader\n",
      "Successfully installed finance-datareader-0.9.31 requests-file-1.5.1\n"
     ]
    }
   ],
   "source": [
    "!pip install -U finance-datareader"
   ]
  },
  {
   "cell_type": "code",
   "execution_count": 2,
   "id": "ae002af4",
   "metadata": {},
   "outputs": [],
   "source": [
    "import FinanceDataReader as fdr"
   ]
  },
  {
   "cell_type": "code",
   "execution_count": 3,
   "id": "23c24939",
   "metadata": {
    "collapsed": true
   },
   "outputs": [
    {
     "data": {
      "text/html": [
       "<div>\n",
       "<style scoped>\n",
       "    .dataframe tbody tr th:only-of-type {\n",
       "        vertical-align: middle;\n",
       "    }\n",
       "\n",
       "    .dataframe tbody tr th {\n",
       "        vertical-align: top;\n",
       "    }\n",
       "\n",
       "    .dataframe thead th {\n",
       "        text-align: right;\n",
       "    }\n",
       "</style>\n",
       "<table border=\"1\" class=\"dataframe\">\n",
       "  <thead>\n",
       "    <tr style=\"text-align: right;\">\n",
       "      <th></th>\n",
       "      <th>Symbol</th>\n",
       "      <th>Market</th>\n",
       "      <th>Name</th>\n",
       "      <th>Sector</th>\n",
       "      <th>Industry</th>\n",
       "      <th>ListingDate</th>\n",
       "      <th>SettleMonth</th>\n",
       "      <th>Representative</th>\n",
       "      <th>HomePage</th>\n",
       "      <th>Region</th>\n",
       "    </tr>\n",
       "  </thead>\n",
       "  <tbody>\n",
       "    <tr>\n",
       "      <th>0</th>\n",
       "      <td>060310</td>\n",
       "      <td>KOSDAQ</td>\n",
       "      <td>3S</td>\n",
       "      <td>전자부품 제조업</td>\n",
       "      <td>반도체 웨이퍼 캐리어</td>\n",
       "      <td>2002-04-23</td>\n",
       "      <td>03월</td>\n",
       "      <td>김세완</td>\n",
       "      <td>http://www.3sref.com</td>\n",
       "      <td>서울특별시</td>\n",
       "    </tr>\n",
       "    <tr>\n",
       "      <th>1</th>\n",
       "      <td>095570</td>\n",
       "      <td>KOSPI</td>\n",
       "      <td>AJ네트웍스</td>\n",
       "      <td>산업용 기계 및 장비 임대업</td>\n",
       "      <td>렌탈(파렛트, OA장비, 건설장비)</td>\n",
       "      <td>2015-08-21</td>\n",
       "      <td>12월</td>\n",
       "      <td>박대현</td>\n",
       "      <td>http://www.ajnet.co.kr</td>\n",
       "      <td>서울특별시</td>\n",
       "    </tr>\n",
       "    <tr>\n",
       "      <th>2</th>\n",
       "      <td>006840</td>\n",
       "      <td>KOSPI</td>\n",
       "      <td>AK홀딩스</td>\n",
       "      <td>기타 금융업</td>\n",
       "      <td>지주사업</td>\n",
       "      <td>1999-08-11</td>\n",
       "      <td>12월</td>\n",
       "      <td>채형석, 이석주(각자 대표이사)</td>\n",
       "      <td>http://www.aekyunggroup.co.kr</td>\n",
       "      <td>서울특별시</td>\n",
       "    </tr>\n",
       "    <tr>\n",
       "      <th>3</th>\n",
       "      <td>054620</td>\n",
       "      <td>KOSDAQ</td>\n",
       "      <td>APS홀딩스</td>\n",
       "      <td>기타 금융업</td>\n",
       "      <td>인터넷 트래픽 솔루션</td>\n",
       "      <td>2001-12-04</td>\n",
       "      <td>12월</td>\n",
       "      <td>정기로</td>\n",
       "      <td>http://www.apsholdings.co.kr</td>\n",
       "      <td>경기도</td>\n",
       "    </tr>\n",
       "    <tr>\n",
       "      <th>4</th>\n",
       "      <td>265520</td>\n",
       "      <td>KOSDAQ</td>\n",
       "      <td>AP시스템</td>\n",
       "      <td>특수 목적용 기계 제조업</td>\n",
       "      <td>디스플레이 제조 장비</td>\n",
       "      <td>2017-04-07</td>\n",
       "      <td>12월</td>\n",
       "      <td>김영주</td>\n",
       "      <td>http://www.apsystems.co.kr</td>\n",
       "      <td>경기도</td>\n",
       "    </tr>\n",
       "  </tbody>\n",
       "</table>\n",
       "</div>"
      ],
      "text/plain": [
       "   Symbol  Market    Name           Sector             Industry ListingDate  \\\n",
       "0  060310  KOSDAQ      3S         전자부품 제조업          반도체 웨이퍼 캐리어  2002-04-23   \n",
       "1  095570   KOSPI  AJ네트웍스  산업용 기계 및 장비 임대업  렌탈(파렛트, OA장비, 건설장비)  2015-08-21   \n",
       "2  006840   KOSPI   AK홀딩스           기타 금융업                 지주사업  1999-08-11   \n",
       "3  054620  KOSDAQ  APS홀딩스           기타 금융업          인터넷 트래픽 솔루션  2001-12-04   \n",
       "4  265520  KOSDAQ   AP시스템    특수 목적용 기계 제조업          디스플레이 제조 장비  2017-04-07   \n",
       "\n",
       "  SettleMonth     Representative                       HomePage Region  \n",
       "0         03월                김세완           http://www.3sref.com  서울특별시  \n",
       "1         12월                박대현         http://www.ajnet.co.kr  서울특별시  \n",
       "2         12월  채형석, 이석주(각자 대표이사)  http://www.aekyunggroup.co.kr  서울특별시  \n",
       "3         12월                정기로   http://www.apsholdings.co.kr    경기도  \n",
       "4         12월                김영주     http://www.apsystems.co.kr    경기도  "
      ]
     },
     "execution_count": 3,
     "metadata": {},
     "output_type": "execute_result"
    }
   ],
   "source": [
    "df_krx = fdr.StockListing('KRX')\n",
    "df_krx.head()"
   ]
  },
  {
   "cell_type": "code",
   "execution_count": 4,
   "id": "d30d4f54",
   "metadata": {
    "collapsed": true
   },
   "outputs": [
    {
     "data": {
      "text/html": [
       "<div>\n",
       "<style scoped>\n",
       "    .dataframe tbody tr th:only-of-type {\n",
       "        vertical-align: middle;\n",
       "    }\n",
       "\n",
       "    .dataframe tbody tr th {\n",
       "        vertical-align: top;\n",
       "    }\n",
       "\n",
       "    .dataframe thead th {\n",
       "        text-align: right;\n",
       "    }\n",
       "</style>\n",
       "<table border=\"1\" class=\"dataframe\">\n",
       "  <thead>\n",
       "    <tr style=\"text-align: right;\">\n",
       "      <th></th>\n",
       "      <th>Open</th>\n",
       "      <th>High</th>\n",
       "      <th>Low</th>\n",
       "      <th>Close</th>\n",
       "      <th>Volume</th>\n",
       "      <th>Change</th>\n",
       "    </tr>\n",
       "    <tr>\n",
       "      <th>Date</th>\n",
       "      <th></th>\n",
       "      <th></th>\n",
       "      <th></th>\n",
       "      <th></th>\n",
       "      <th></th>\n",
       "      <th></th>\n",
       "    </tr>\n",
       "  </thead>\n",
       "  <tbody>\n",
       "    <tr>\n",
       "      <th>2018-01-02</th>\n",
       "      <td>206047</td>\n",
       "      <td>209825</td>\n",
       "      <td>204757</td>\n",
       "      <td>208167</td>\n",
       "      <td>0</td>\n",
       "      <td>0.021709</td>\n",
       "    </tr>\n",
       "    <tr>\n",
       "      <th>2018-01-03</th>\n",
       "      <td>210930</td>\n",
       "      <td>227794</td>\n",
       "      <td>209272</td>\n",
       "      <td>227334</td>\n",
       "      <td>0</td>\n",
       "      <td>0.092075</td>\n",
       "    </tr>\n",
       "    <tr>\n",
       "      <th>2018-01-04</th>\n",
       "      <td>230007</td>\n",
       "      <td>240696</td>\n",
       "      <td>226044</td>\n",
       "      <td>230376</td>\n",
       "      <td>0</td>\n",
       "      <td>0.013381</td>\n",
       "    </tr>\n",
       "    <tr>\n",
       "      <th>2018-01-05</th>\n",
       "      <td>234890</td>\n",
       "      <td>246041</td>\n",
       "      <td>234061</td>\n",
       "      <td>245949</td>\n",
       "      <td>0</td>\n",
       "      <td>0.067598</td>\n",
       "    </tr>\n",
       "    <tr>\n",
       "      <th>2018-01-08</th>\n",
       "      <td>256637</td>\n",
       "      <td>279399</td>\n",
       "      <td>255440</td>\n",
       "      <td>278754</td>\n",
       "      <td>0</td>\n",
       "      <td>0.133381</td>\n",
       "    </tr>\n",
       "    <tr>\n",
       "      <th>2018-01-09</th>\n",
       "      <td>280136</td>\n",
       "      <td>294880</td>\n",
       "      <td>268341</td>\n",
       "      <td>269539</td>\n",
       "      <td>0</td>\n",
       "      <td>-0.033058</td>\n",
       "    </tr>\n",
       "    <tr>\n",
       "      <th>2018-01-10</th>\n",
       "      <td>279490</td>\n",
       "      <td>290272</td>\n",
       "      <td>262627</td>\n",
       "      <td>272764</td>\n",
       "      <td>0</td>\n",
       "      <td>0.011965</td>\n",
       "    </tr>\n",
       "    <tr>\n",
       "      <th>2018-01-11</th>\n",
       "      <td>275161</td>\n",
       "      <td>282902</td>\n",
       "      <td>270000</td>\n",
       "      <td>282902</td>\n",
       "      <td>0</td>\n",
       "      <td>0.037168</td>\n",
       "    </tr>\n",
       "    <tr>\n",
       "      <th>2018-01-12</th>\n",
       "      <td>299118</td>\n",
       "      <td>344640</td>\n",
       "      <td>292576</td>\n",
       "      <td>314692</td>\n",
       "      <td>0</td>\n",
       "      <td>0.112371</td>\n",
       "    </tr>\n",
       "    <tr>\n",
       "      <th>2018-01-15</th>\n",
       "      <td>316536</td>\n",
       "      <td>328147</td>\n",
       "      <td>302713</td>\n",
       "      <td>322526</td>\n",
       "      <td>0</td>\n",
       "      <td>0.024894</td>\n",
       "    </tr>\n",
       "  </tbody>\n",
       "</table>\n",
       "</div>"
      ],
      "text/plain": [
       "              Open    High     Low   Close  Volume    Change\n",
       "Date                                                        \n",
       "2018-01-02  206047  209825  204757  208167       0  0.021709\n",
       "2018-01-03  210930  227794  209272  227334       0  0.092075\n",
       "2018-01-04  230007  240696  226044  230376       0  0.013381\n",
       "2018-01-05  234890  246041  234061  245949       0  0.067598\n",
       "2018-01-08  256637  279399  255440  278754       0  0.133381\n",
       "2018-01-09  280136  294880  268341  269539       0 -0.033058\n",
       "2018-01-10  279490  290272  262627  272764       0  0.011965\n",
       "2018-01-11  275161  282902  270000  282902       0  0.037168\n",
       "2018-01-12  299118  344640  292576  314692       0  0.112371\n",
       "2018-01-15  316536  328147  302713  322526       0  0.024894"
      ]
     },
     "execution_count": 4,
     "metadata": {},
     "output_type": "execute_result"
    }
   ],
   "source": [
    "df = fdr.DataReader('068270', '2018')\n",
    "df.head(10)"
   ]
  },
  {
   "cell_type": "code",
   "execution_count": 5,
   "id": "78ed0d9d",
   "metadata": {
    "collapsed": true
   },
   "outputs": [
    {
     "data": {
      "text/plain": [
       "<AxesSubplot:xlabel='Date'>"
      ]
     },
     "execution_count": 5,
     "metadata": {},
     "output_type": "execute_result"
    },
    {
     "data": {
      "image/png": "[encoded data removed]",
      "text/plain": [
       "<Figure size 432x288 with 1 Axes>"
      ]
     },
     "metadata": {
      "needs_background": "light"
     },
     "output_type": "display_data"
    }
   ],
   "source": [
    "df.Close.plot()"
   ]
  },
  {
   "cell_type": "code",
   "execution_count": 7,
   "id": "1c4d9f16",
   "metadata": {
    "collapsed": true
   },
   "outputs": [
    {
     "data": {
      "text/plain": [
       "<AxesSubplot:xlabel='Date'>"
      ]
     },
     "execution_count": 7,
     "metadata": {},
     "output_type": "execute_result"
    },
    {
     "data": {
      "image/png": "[encoded data removed]",
      "text/plain": [
       "<Figure size 432x288 with 1 Axes>"
      ]
     },
     "metadata": {
      "needs_background": "light"
     },
     "output_type": "display_data"
    }
   ],
   "source": [
    "df = fdr.DataReader('KS11', '2020-01-01','2022-02-08')\n",
    "df['Close'].plot()"
   ]
  },
  {
   "cell_type": "code",
   "execution_count": null,
   "id": "94d70443",
   "metadata": {},
   "outputs": [],
   "source": []
  },
  {
   "cell_type": "code",
   "execution_count": null,
   "id": "0c4a3422",
   "metadata": {},
   "outputs": [],
   "source": []
  },
  {
   "cell_type": "code",
   "execution_count": null,
   "id": "071a66fd",
   "metadata": {},
   "outputs": [],
   "source": []
  },
  {
   "cell_type": "code",
   "execution_count": null,
   "id": "3d61478e",
   "metadata": {},
   "outputs": [],
   "source": []
  },
  {
   "cell_type": "code",
   "execution_count": null,
   "id": "172e6e86",
   "metadata": {},
   "outputs": [],
   "source": []
  },
  {
   "cell_type": "code",
   "execution_count": null,
   "id": "d0e2051f",
   "metadata": {},
   "outputs": [],
   "source": []
  }
 ],
 "metadata": {
  "kernelspec": {
   "display_name": "Python 3 (ipykernel)",
   "language": "python",
   "name": "python3"
  },
  "language_info": {
   "codemirror_mode": {
    "name": "ipython",
    "version": 3
   },
   "file_extension": ".py",
   "mimetype": "text/x-python",
   "name": "python",
   "nbconvert_exporter": "python",
   "pygments_lexer": "ipython3",
   "version": "3.9.7"
  }
 },
 "nbformat": 4,
 "nbformat_minor": 5
}
