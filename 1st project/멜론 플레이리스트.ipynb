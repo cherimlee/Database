{
 "cells": [
  {
   "cell_type": "code",
   "execution_count": 2,
   "id": "0bd8b14a",
   "metadata": {},
   "outputs": [],
   "source": [
    "import requests\n",
    "import requests as req\n",
    "from bs4 import BeautifulSoup\n",
    "from selenium import webdriver\n",
    "from selenium.webdriver.common.keys import Keys"
   ]
  },
  {
   "cell_type": "code",
   "execution_count": 16,
   "id": "806536df",
   "metadata": {},
   "outputs": [],
   "source": [
    "import pandas as pd\n",
    "import numpy as np\n",
    "import requests\n",
    "from bs4 import BeautifulSoup\n",
    "import re\n",
    "from selenium import webdriver\n",
    "import warnings\n",
    "warnings.simplefilter(action='ignore', category=FutureWarning)\n",
    "import matplotlib.pyplot as plt\n",
    "import seaborn as sns\n",
    "from selenium import webdriver"
   ]
  },
  {
   "cell_type": "code",
   "execution_count": null,
   "id": "23e0385a",
   "metadata": {},
   "outputs": [],
   "source": []
  },
  {
   "cell_type": "code",
   "execution_count": 22,
   "id": "7fa31295",
   "metadata": {},
   "outputs": [],
   "source": [
    "## 노래 제목/가수 크롤링 함수\n",
    "df_song = pd.DataFrame(columns = ['노래','슬픔', '분노', '기쁨', '긴장감', '무서운', '증오', '차분히', '섹시', '브릿락', '설렘', '몽환'])\n",
    "\n",
    "def url(url):\n",
    "    url = input()\n",
    "    h = {'User-Agent' : 'Mozilla/5.0 (Windows NT 10.0; Win64; x64) AppleWebKit/537.36 (KHTML, like Gecko) Chrome/100.0.4896.127 Safari/537.36'} \n",
    "    res = req.get(url, headers=h)\n",
    "    soup = BeautifulSoup(res.text, 'html.parser')\n",
    "    \n",
    "    songs = soup.select('div.ellipsis.rank01 > span > a')\n",
    "    singers = soup.select('div.ellipsis.rank02 > span > a')\n",
    "\n",
    "    for song, singer in zip(songs, singers):\n",
    "        songs = (song.text, '-', singer.text)\n",
    "    df_song = df_song.append({\"노래\" : songs})"
   ]
  },
  {
   "cell_type": "code",
   "execution_count": 63,
   "id": "0f9ecfe6",
   "metadata": {},
   "outputs": [
    {
     "data": {
      "text/html": [
       "<div>\n",
       "<style scoped>\n",
       "    .dataframe tbody tr th:only-of-type {\n",
       "        vertical-align: middle;\n",
       "    }\n",
       "\n",
       "    .dataframe tbody tr th {\n",
       "        vertical-align: top;\n",
       "    }\n",
       "\n",
       "    .dataframe thead th {\n",
       "        text-align: right;\n",
       "    }\n",
       "</style>\n",
       "<table border=\"1\" class=\"dataframe\">\n",
       "  <thead>\n",
       "    <tr style=\"text-align: right;\">\n",
       "      <th></th>\n",
       "      <th>노래</th>\n",
       "      <th>슬픔</th>\n",
       "      <th>분노</th>\n",
       "      <th>기쁨</th>\n",
       "      <th>긴장감</th>\n",
       "      <th>무서운</th>\n",
       "      <th>증오</th>\n",
       "      <th>차분히</th>\n",
       "      <th>섹시</th>\n",
       "      <th>브릿락</th>\n",
       "      <th>설렘</th>\n",
       "      <th>몽환</th>\n",
       "    </tr>\n",
       "  </thead>\n",
       "  <tbody>\n",
       "    <tr>\n",
       "      <th>0</th>\n",
       "      <td>(어, S)</td>\n",
       "      <td>NaN</td>\n",
       "      <td>NaN</td>\n",
       "      <td>NaN</td>\n",
       "      <td>NaN</td>\n",
       "      <td>NaN</td>\n",
       "      <td>NaN</td>\n",
       "      <td>NaN</td>\n",
       "      <td>NaN</td>\n",
       "      <td>NaN</td>\n",
       "      <td>NaN</td>\n",
       "      <td>NaN</td>\n",
       "    </tr>\n",
       "    <tr>\n",
       "      <th>1</th>\n",
       "      <td>(른, o)</td>\n",
       "      <td>NaN</td>\n",
       "      <td>NaN</td>\n",
       "      <td>NaN</td>\n",
       "      <td>NaN</td>\n",
       "      <td>NaN</td>\n",
       "      <td>NaN</td>\n",
       "      <td>NaN</td>\n",
       "      <td>NaN</td>\n",
       "      <td>NaN</td>\n",
       "      <td>NaN</td>\n",
       "      <td>NaN</td>\n",
       "    </tr>\n",
       "  </tbody>\n",
       "</table>\n",
       "</div>"
      ],
      "text/plain": [
       "       노래   슬픔   분노   기쁨  긴장감  무서운   증오  차분히   섹시  브릿락   설렘   몽환\n",
       "0  (어, S)  NaN  NaN  NaN  NaN  NaN  NaN  NaN  NaN  NaN  NaN  NaN\n",
       "1  (른, o)  NaN  NaN  NaN  NaN  NaN  NaN  NaN  NaN  NaN  NaN  NaN"
      ]
     },
     "execution_count": 63,
     "metadata": {},
     "output_type": "execute_result"
    }
   ],
   "source": [
    "df_song = pd.DataFrame(columns = ['노래','슬픔', '분노', '기쁨', '긴장감', '무서운', '증오', '차분히', '섹시', '브릿락', '설렘', '몽환'])\n",
    "driver = webdriver.Chrome() \n",
    "\n",
    "import time\n",
    "\n",
    "url = 'https://www.melon.com/mymusic/dj/mymusicdjplaylistview_inform.htm?plylstSeq=484083307'\n",
    "driver.get(url)\n",
    "path = '#frm > div'\n",
    "time.sleep(0.5)\n",
    "html = driver.page_source\n",
    "soup = BeautifulSoup(html, 'html.parser')\n",
    "prod = soup.select(path)\n",
    "\n",
    "j=0    \n",
    "for i in prod:\n",
    "\n",
    "    songs = i.select('div.ellipsis.rank01 > span > a')[j].text\n",
    "    singers = i.select('div.ellipsis.rank02 > span > a')[j].text\n",
    "\n",
    "    for pair in zip(songs, singers):\n",
    "        songs = pair\n",
    "        df_song = df_song.append({\"노래\" :songs},ignore_index=True)\n",
    "    j+=1\n",
    "df_song"
   ]
  },
  {
   "cell_type": "code",
   "execution_count": null,
   "id": "606bda67",
   "metadata": {},
   "outputs": [],
   "source": [
    "#frm > div > table > tbody > tr:nth-child(1) > td:nth-child(5) > div > div > div.ellipsis.rank01 > span > a"
   ]
  },
  {
   "cell_type": "code",
   "execution_count": null,
   "id": "3299f4fd",
   "metadata": {},
   "outputs": [],
   "source": [
    "#frm > div > table > tbody > tr:nth-child(2) > td:nth-child(5) > div > div"
   ]
  },
  {
   "cell_type": "markdown",
   "id": "672472d7",
   "metadata": {},
   "source": [
    "# 슬픔"
   ]
  },
  {
   "cell_type": "code",
   "execution_count": null,
   "id": "9795c8ac",
   "metadata": {},
   "outputs": [],
   "source": [
    "url(url)"
   ]
  },
  {
   "cell_type": "code",
   "execution_count": null,
   "id": "3636239e",
   "metadata": {},
   "outputs": [],
   "source": []
  },
  {
   "cell_type": "code",
   "execution_count": null,
   "id": "2aff56a7",
   "metadata": {},
   "outputs": [],
   "source": []
  },
  {
   "cell_type": "code",
   "execution_count": null,
   "id": "14c59112",
   "metadata": {},
   "outputs": [],
   "source": []
  },
  {
   "cell_type": "markdown",
   "id": "c4e903b5",
   "metadata": {},
   "source": [
    "# 분노"
   ]
  },
  {
   "cell_type": "code",
   "execution_count": 5,
   "id": "d609dc7d",
   "metadata": {},
   "outputs": [
    {
     "name": "stdout",
     "output_type": "stream",
     "text": [
      "https://www.melon.com/mymusic/dj/mymusicdjplaylistview_inform.htm?plylstSeq=490101618\n",
      "어떤X (What Type of X) - 제시 (Jessi)\n",
      "Break - 빈지노 (Beenzino)\n",
      "가라고 (Gotta Go) - 선미\n",
      "야 우냐 (U MAD) - BOBBY\n",
      "GIDDY UP (Prod. GroovyRoom) - 식케이 (Sik-K)\n",
      "WHY DO FUCKBOIS HANG OUT ON THE NET - 김하온 (HAON)\n",
      "Boss Bitch - pH-1\n",
      "BOSS - Woodie Gochild\n",
      "Psycho - 박재범\n",
      "TOMBOY - 키드밀리 (Kid Milli)\n",
      "DNA Remix - Doja Cat\n",
      "Step Back - NCT U\n",
      "Cherry Bomb - Mia Rodriguez\n",
      "Burn (Feat. 쿠기) - (여자)아이들\n",
      "미쳐 - 박재범\n",
      "나쁜 기집애 - YLN Foreign (이정운)\n",
      "보자보자 - D.Ark (디아크)\n",
      "욱 (UGH!) - 365LIT\n",
      "영웅 (英雄; Kick It) - pH-1\n",
      "품행제로 - 릴보이 (lIlBOI)\n",
      "소년점프 (Feat. 배기성) - 이영지\n",
      "돌덩이 - 아우릴고트 (OUREALGOAT)\n",
      "Anarchy - Choo\n",
      "그건 니 생각이고 - OSUN (권오선)\n",
      "아예 (Ah Yeah) - GOT the beat\n",
      "거절할 거야 - NCT 127\n",
      "Dumb Litty - 그루비룸 (GroovyRoom)\n",
      "Uh-Oh - 4minute\n",
      "So Pretty - CL\n",
      "Very Good (Rough Ver.) - 머쉬베놈 (MUSHVENOM)\n",
      "High Hopes - 방탄소년단\n",
      "출첵 (Feat. 나얼 For Brown Eyed Soul) - NCT 127\n",
      "얼음 땡 (Ice Ice) (Feat. 육지담) - 블락비 바스타즈\n",
      "HIP - 마미손\n",
      "My Number - 하현우 (국카스텐)\n",
      "사이다 - Jvcki Wai\n",
      "Hello Bitches - 장기하와 얼굴들\n",
      "털어! (Feat. M1NU, Veinyfl, Swervy, 래원, 이영지, Lil Nekh, D.Ark) - EXID\n"
     ]
    }
   ],
   "source": [
    "url(url)"
   ]
  },
  {
   "cell_type": "code",
   "execution_count": null,
   "id": "2c83e456",
   "metadata": {},
   "outputs": [],
   "source": []
  },
  {
   "cell_type": "markdown",
   "id": "e391980a",
   "metadata": {},
   "source": [
    "# 기쁨"
   ]
  },
  {
   "cell_type": "code",
   "execution_count": 6,
   "id": "baa4c1de",
   "metadata": {},
   "outputs": [
    {
     "name": "stdout",
     "output_type": "stream",
     "text": [
      "https://www.melon.com/mymusic/dj/mymusicdjplaylistview_inform.htm?plylstSeq=506175413\n",
      "바야흐로 사랑의 계절 - 이한철\n",
      "사랑을 시작해도 되겠습니까 - 박새별\n",
      "피너츠 송 - 모던 쥬스\n",
      "일단은 달달한 노래 (Feat. Gamjay, 임미소) - 상상밴드\n",
      "Think About' Chu - Rooftop Gigs\n",
      "It Was You - 아소토 유니온\n",
      "그대와 같아 - 브라더수\n",
      "키스해주겠니 - 주영\n",
      "I'm In Love - Eddie Shin\n",
      "Couple Song (Feat. Kelley) - 라디 (Ra. D)\n",
      "꿈에선 놀아줘 - 라디 (Ra. D)\n",
      "좋아해줘 - 루싸이트 토끼\n",
      "사랑에 빠진 딸기 (배스킨라빈스 31 CF 삽입곡) - 검정치마\n",
      "조별과제 - 타루\n",
      "망고 - CHEEZE (치즈)\n",
      "Hawaian couple (에뛰드 복숭아송 원곡) - CHEEZE (치즈)\n",
      "님 - HUS (허밍어반스테레오)\n",
      "선인장 (Vocal 심규선) - HUS (허밍어반스테레오)\n",
      "Picnic - 에피톤 프로젝트\n",
      "Lullaby - 라이너스의 담요\n",
      "One Fine Day - 모리 (morrie)\n",
      "오늘은 맑음 - 모리 (morrie)\n",
      "ㅋㅋㅋ - 상상밴드\n",
      "초콜렛군 오렌지양 - 몰릭\n",
      "좋아요~ (CF - 농협) - 밀크티\n",
      "은하수를 여행하는 히치하이커 (Feat. 김필) - 불독 맨션\n",
      "우리 처음 만난 날 - 이루펀트\n",
      "슈퍼스타 - 한희정\n",
      "꽃처럼 한 철만 사랑해 줄 건가요? (Sakura Moment) - 이한철\n",
      "홍삼맛 캔디 - 심규선 (Lucia)\n",
      "토요일 밤이 좋아 (Saturday Night Fever) - 에피톤 프로젝트\n",
      "팝콘 - 바닐라 어쿠스틱\n",
      "좋다 - 로맨틱펀치 (Romantic Punch)\n",
      "들었다 놨다 - 데이브레이크 (DAYBREAK)\n",
      "Paradise (드라마 커피프린스 1호점 삽입곡) - 데이브레이크 (DAYBREAK)\n",
      "랄랄라, It's Love! - 데이브레이크 (DAYBREAK)\n",
      "솜사탕 - 더 멜로디\n",
      "아이스커피 - 더 멜로디\n",
      "Happy Things - 네미시스\n",
      "Don't You Know - 택시타 라임즈\n",
      "손잡고 허밍 (Feat. 요조) (Album Ver.) - 좋아서하는밴드\n",
      "귤 - 제이레빗(J Rabbit)\n",
      "널 생각해 - 한효주\n",
      "Chocolate Drive - 노리플라이 (no reply)\n",
      "아메리카노 - 재주소년\n",
      "사랑은 은하수 다방에서 - 재주소년\n",
      "오늘밤은 어둠이 무서워요 - 원 모어 찬스 (one more chance)\n",
      "Nostalgia - 모이다밴드\n",
      "사랑의 롤러코스터 - 10CM\n",
      "좋아해 - 10CM\n"
     ]
    }
   ],
   "source": [
    "url(url)"
   ]
  },
  {
   "cell_type": "code",
   "execution_count": null,
   "id": "98cb3d34",
   "metadata": {},
   "outputs": [],
   "source": []
  },
  {
   "cell_type": "markdown",
   "id": "7fb957a8",
   "metadata": {},
   "source": [
    "# 긴장감"
   ]
  },
  {
   "cell_type": "code",
   "execution_count": 7,
   "id": "3b84741d",
   "metadata": {},
   "outputs": [
    {
     "name": "stdout",
     "output_type": "stream",
     "text": [
      "https://www.melon.com/mymusic/dj/mymusicdjplaylistview_inform.htm?plylstSeq=412763124\n",
      "Alive - 캐스커\n",
      "Save me - leeSA (리싸)\n",
      "소나기 - 우효\n",
      "(Bonus) What Are You Seeing? (Performance in film) - 선우정아\n",
      "Teardrop - Massive Attack\n",
      "안개 - 보아 (BoA)\n",
      "Nobody Knows - 김윤아\n",
      "꽃이 지다  (Feat. 조원선) - 정재형\n",
      "목소리 - 김윤아\n",
      "숨결 - Mad Soul Child\n",
      "그렇습니까 - 흐른\n",
      "Moonlight - 이바다\n",
      "Kiss or Kill - 가인\n",
      "천 개의 태양 - 캐스커\n",
      "Butterfly - 최정인\n",
      "I Can't Never Stop - 이바다\n",
      "멈춰버린 밤 (Still Ist Die Nacht) - 엘리케이 (Elli K)\n",
      "별빛속으로 (Feat. 박지윤) - 김C\n",
      "Theme Intro - 방준석\n",
      "잡아줘 - 이바다\n",
      "빨간구두 - 정중한\n",
      "Curse of Girl - 박정현\n",
      "나비 - 혜림\n",
      "유리 - 김윤아\n",
      "Kim Ju Young - 박정은\n",
      "길 - 김윤아\n",
      "Theme Tango Bandoneon Final - 방준석\n",
      "그림자 - 진실\n",
      "I Am - 잉키\n",
      "주어진 단서 - 정중한\n",
      "I Can't Get You Off My Mind - Miss Li\n",
      "Chase - 난아진\n",
      "자각몽 (Feat. 올티) - 김윤아\n",
      "Endless Night - 김태성\n",
      "세상 밖으로 - 최정인\n",
      "City Of Time (Feat. 영지) - 잉키\n",
      "It Could Be You (Feat. 일레인) - 마리오\n",
      "Dear - 정중한\n",
      "DAYS and MOONS - Mad Soul Child\n",
      "Rush - Elsa Kopf\n",
      "떠나야 할 그 사람 - 에브리 싱글 데이\n",
      "시린꽃 (Original Ver.) - 잉키\n",
      "Was Justice Delivered - Booth\n",
      "아무도 믿지 말 것 - 노형우\n",
      "STAY - 정중한\n",
      "eclipse (이클립스) - Steelheart\n",
      "This Is The Beginning - Patrick Joseph\n",
      "Superbad (11:34) - Marco Beltrami\n",
      "비극 3 (진실) - Travie McCoy\n",
      "돌이킬 수 없는 걸음 - 이병우\n"
     ]
    }
   ],
   "source": [
    "url(url)"
   ]
  },
  {
   "cell_type": "code",
   "execution_count": null,
   "id": "da045743",
   "metadata": {},
   "outputs": [],
   "source": []
  },
  {
   "cell_type": "markdown",
   "id": "1e28db88",
   "metadata": {},
   "source": [
    "# 무서운"
   ]
  },
  {
   "cell_type": "code",
   "execution_count": 8,
   "id": "c29465fc",
   "metadata": {},
   "outputs": [
    {
     "name": "stdout",
     "output_type": "stream",
     "text": [
      "https://www.melon.com/mymusic/dj/mymusicdjplaylistview_inform.htm?plylstSeq=467106196\n",
      "어느 날 (Duet With 김윤아) - 이적\n",
      "Ovum - 레이니 썬\n",
      "이상한 얘기 (Daytripper) - 하키\n",
      "New 욕 - 자우림\n",
      "우린 결국 그렇게 (Feat. Seori) - 기리보이\n",
      "버려진 것들 - 스웨덴세탁소\n",
      "길 잃은 강아지 - 아이유\n",
      "전 여자친구에게 (Feat. 선우정아) - San E\n",
      "행복합니다 (Feat. 김종완 Of Nell) - 에픽하이 (EPIK HIGH)\n",
      "요단강 - 네스티요나\n",
      "Plastic Flower (상사병) - 박정현\n",
      "탈진 - 황보령\n",
      "잔혹동화 - 아이유\n",
      "괴물 - PPCX (피터팬컴플렉스)\n",
      "늪 - 조관우\n",
      "암실 - 쏜애플 (THORNAPPLE)\n",
      "뱀 - 키치레코드\n",
      "Act 5 - 넬 (NELL)\n",
      "교실이데아 - 서태지\n",
      "령혼 - 양파\n",
      "오르골 (Orgel) - SHINee (샤이니)\n",
      "새 - 자우림\n",
      "Paradise Lost - 가인\n",
      "하비샴의 왈츠 (Miss Havishams Waltz) - 박정현\n",
      "Dracula - f(x)\n",
      "미친거니 (Feat. 방용국) - 송지은\n",
      "낙화(落花) - 자우림\n",
      "피해망상 Pt. 1 (Feat. Junggigo) - 에픽하이 (EPIK HIGH)\n",
      "음탕한 계집 - 정차식\n",
      "저주인형 - VIXX (빅스)\n",
      "미궁 - 황병기\n"
     ]
    }
   ],
   "source": [
    "url(url)"
   ]
  },
  {
   "cell_type": "code",
   "execution_count": null,
   "id": "4032fc13",
   "metadata": {},
   "outputs": [],
   "source": []
  },
  {
   "cell_type": "markdown",
   "id": "1b6cb0ca",
   "metadata": {},
   "source": [
    "# 증오"
   ]
  },
  {
   "cell_type": "code",
   "execution_count": 9,
   "id": "346944f6",
   "metadata": {},
   "outputs": [
    {
     "name": "stdout",
     "output_type": "stream",
     "text": [
      "https://www.melon.com/mymusic/dj/mymusicdjplaylistview_inform.htm?plylstSeq=426635404\n",
      "The Movement II - CB Mass\n",
      "이력서 - 다이나믹 듀오\n",
      "형이 들려주는 이야기 (더러운 힙합씬) (Feat.Koonta) - 데프콘\n",
      "K.O. - Hiphopmind\n",
      "Do What I Do - 레드 페이스\n",
      "진표생각2 - 랩퍼라면...Etc - 나쑈\n",
      "진표생각 1 - 3rd Rhymer\n",
      "Throw Your Hands Up (너의 기준) - 버벌진트\n",
      "Hip Hop - 김진표\n",
      "You - 김진표\n",
      "나쁜X (BAD YEAR) - 유승준\n",
      "앰뷸런스 - 거리의 시인들\n",
      "100 (Feat. 천재노창) - TBNY\n",
      "Higher Than E-Sens - San E\n",
      "빈지노 - 수퍼비 (SUPERBEE)\n",
      "배치기 - 블랙넛 (Black Nut)\n",
      "What!! - 블랙넛 (Black Nut)\n",
      "차렷! (Feat. 다이나믹 듀오, Tablo) - 블랙넛 (Black Nut)\n"
     ]
    }
   ],
   "source": [
    "url(url)"
   ]
  },
  {
   "cell_type": "code",
   "execution_count": null,
   "id": "ab30d319",
   "metadata": {},
   "outputs": [],
   "source": []
  },
  {
   "cell_type": "markdown",
   "id": "b811eee7",
   "metadata": {},
   "source": [
    "# 차분히"
   ]
  },
  {
   "cell_type": "code",
   "execution_count": 10,
   "id": "c0e1eedc",
   "metadata": {},
   "outputs": [
    {
     "name": "stdout",
     "output_type": "stream",
     "text": [
      "https://www.melon.com/mymusic/dj/mymusicdjplaylistview_inform.htm?plylstSeq=506846192\n",
      "DA DA! (Feat. pH-1) - meenoi (미노이)\n",
      "봄인가 봐 (Spring Love) - 에릭남 (Eric Nam)\n",
      "봄이 좋냐?? - 웬디 (WENDY)\n",
      "Give Love - 10CM\n",
      "Pink! - AKMU (악뮤)\n",
      "민들레 (single ver.) - 권진아\n",
      "선 (Feat. 우효) (45.7cm) - 우효\n",
      "살랑살랑 - 유승우\n",
      "Je T′aime - meenoi (미노이)\n",
      "봄 사랑 벚꽃 말고 - 조이 (JOY)\n",
      "거짓말이네 - HIGH4 (하이포)\n",
      "돌림노래 (Feat. DEAN) - 아이유\n",
      "스쿨버스 - 유승우\n",
      "이쁘다니까 - 아이유\n",
      "Silly Silly Love - 우효\n",
      "Blue Turns Pink - 에디킴\n",
      "Would U - 권진아\n",
      "고양이 낮잠 (zzZ) (Feat. Utopi) - 스텔라장 (Stella Jang)\n",
      "내 눈에만 보여 - Red Velvet (레드벨벳)\n",
      "심술 (feat. 0back) - 새벽공방\n",
      "콘크리트 (Feat. CHEEZE) - 10CM\n",
      "꽃집 (Feat. SUMIN) - 공기남\n",
      "Ring My Bell - 다운 (Dvwn)\n",
      "답장 - 그리즐리 (Grizzly)\n",
      "마음 - 수지\n",
      "따듯한 아이스 아메리카노(Feat.환 of N.CUS) - 최유리\n",
      "LOVE - 정아로\n",
      "Flu - 도리토리\n",
      "산책 - 마마무 (Mamamoo)\n",
      "예쁜하루 - 아이유\n",
      "상상 - 모트 (Motte)\n",
      "Everyday - 담소네공방\n",
      "로코는 로코다 (roco is roco) - 한올\n",
      "Stage - 스탠딩 에그\n",
      "논알콜 - 로코베리\n",
      "쉬는 날 - 406호 프로젝트\n",
      "Reality Blue - 모트 (Motte)\n",
      "99 (바른 연애 길잡이 X 스탠딩 에그) - 길구봉구\n",
      "고백 - 스텔라장 (Stella Jang)\n",
      "따듯해 - 스탠딩 에그\n",
      "사랑, 이게 맞나 봐 - 10CM\n",
      "난 행복해 - 적재\n",
      "오늘밤 너에게 - DAY6 (Even of Day)\n",
      "벌써, 보고싶어 (Prod.공기남) - 소수빈\n",
      "서른 밤째 (With 한올) - 참솜 (Chamsom)\n",
      "지긋지긋 - 1ho\n",
      "CLICHE - 새봄 (saevom)\n"
     ]
    }
   ],
   "source": [
    "url(url)"
   ]
  },
  {
   "cell_type": "code",
   "execution_count": null,
   "id": "f7c02ce2",
   "metadata": {},
   "outputs": [],
   "source": []
  },
  {
   "cell_type": "markdown",
   "id": "70af5218",
   "metadata": {},
   "source": [
    "# 섹시"
   ]
  },
  {
   "cell_type": "code",
   "execution_count": 11,
   "id": "5fb5dba5",
   "metadata": {},
   "outputs": [
    {
     "name": "stdout",
     "output_type": "stream",
     "text": [
      "https://www.melon.com/mymusic/dj/mymusicdjplaylistview_inform.htm?plylstSeq=443836057\n",
      "야몽음인 (夜夢陰人) - 이바다\n",
      "One More Night (Feat. VINXEN) - 베이빌론 (Babylon)\n",
      "Deep - 유성은\n",
      "소원이지 (Feat. 유병재) - MINO (송민호)\n",
      "닿은 순간 (Ooh La La La) - EXO\n",
      "비 오는 거리 (Feat. 핫펠트) - 베이빌론 (Babylon)\n",
      "깜빡 Remix (Feat. Crush, Elo & Jinbo) - GRAY (그레이)\n",
      "Funny (PROD. e.one, SEION) - 소유 (SOYOU)\n",
      "곡선 - 선미\n",
      "HERE I COME - 신화\n",
      "Trouble Maker - 트러블메이커\n",
      "PLAY ME (Feat. 식케이, PENOMECO) - WOOGIE\n",
      "Cereal (Feat. ZICO) - Crush\n",
      "Wanna Love You - 폴킴\n",
      "야시시 - NS 윤지\n",
      "Lovestar (#럽스타) - 나비 (Navi)\n",
      "아슬해 - EXID\n",
      "X (Cross The Moonlight) (Feat. 이라온) - 마크툽 (MAKTUB)\n",
      "매일밤 - EXID\n",
      "I Got Love - 태연 (TAEYEON)\n",
      "피어나 - 가인\n",
      "Paradise Lost - 가인\n",
      "아끼지마 (Feat. 초아(AOA), 아이언) (Don't Be Shy) - 프라이머리\n",
      "우리끼리 (Words Don't Come Easy) - 마마무 (Mamamoo)\n",
      "A-Ha - 아이비\n",
      "Sweet & Easy - 원더걸스\n",
      "집에 안갈래 (Feat. 긱스) - 나비 (Navi)\n",
      "U & Me (Feat. JINBO) - SUMIN (수민)\n",
      "Like This (Feat. SOMA) - 리코 (Rico)\n",
      "Tattoo (Feat. 박재범) - ELO\n",
      "Melt (Feat. Colde) - ELO\n",
      "TOUCH MY BODY - 샘김 (Sam Kim)\n",
      "Downtown Love (Feat. 매드클라운, 웨일) - 주영\n",
      "Planet Girl (Feat. pH-1) - 주영\n",
      "Moonlight - 나비 (Navi)\n",
      "Lily (Feat. 로운 of SF9) - AOA\n",
      "단둘이 - AOA\n",
      "Chocolate Legs - Eric Benet\n",
      "Stupid (With SugarFlow) - HUS (허밍어반스테레오)\n",
      "Body Party - Ciara\n",
      "들어와 - 허가윤 (4minute)\n",
      "전화기를 꺼놔 Remix (Feat. ELO) - 현아\n",
      "Moderato (Feat. Hash Swan) - 박재범\n",
      "잼잼 - 마마무 (Mamamoo)\n",
      "손만 잡고 자자 (TURN OFF THE LIGHT) (MINO SOLO) - 아이유\n",
      "예쁜 아가씨 - WINNER\n",
      "하나 더 (One More) - 신혜성\n",
      "MOVE - 피에스타\n",
      "후아힌 (Feat. 강민희 Of 미스에스) - 태민 (TAEMIN)\n",
      "찰리채플린 - CSP\n"
     ]
    }
   ],
   "source": [
    "url(url)"
   ]
  },
  {
   "cell_type": "code",
   "execution_count": null,
   "id": "7d59d632",
   "metadata": {},
   "outputs": [],
   "source": []
  },
  {
   "cell_type": "markdown",
   "id": "cbab1b8e",
   "metadata": {},
   "source": [
    "# 브릿락"
   ]
  },
  {
   "cell_type": "code",
   "execution_count": 12,
   "id": "3165e033",
   "metadata": {},
   "outputs": [
    {
     "name": "stdout",
     "output_type": "stream",
     "text": [
      "https://www.melon.com/mymusic/dj/mymusicdjplaylistview_inform.htm?plylstSeq=508377011\n",
      "Six Feet Under - Billie Eilish\n",
      "Your Eyes - 선우정아\n",
      "괴물이 되어가는 사람들 - 하근영\n",
      "Somewhere (Memory Ver.) - 김예솔\n",
      "T-KT - 하진 (HAJIN)\n",
      "Empty - Sawano Hiroyuki\n",
      "슬픈 끝맺음 - 카더가든\n",
      "Don't Bring Me Down - 남혜승\n",
      "Castle - 박상희\n",
      "Lullaby - 일레인\n",
      "빨간 하늘 - Halsey\n",
      "The Love - 너드커넥션 (Nerd Connection)\n",
      "Somewhere - 임승범\n",
      "Set Me Free - 호피폴라\n",
      "IDK - 오존 (O3ohn)\n",
      "Lost Time - 가인\n",
      "RescuE - MOSSS\n",
      "Michael's Sword - 개미\n",
      "LUCA - 박정환\n",
      "The First Day - 윤하 (YOUNHA)\n",
      "Body Talk - 오혜주\n",
      "We all lie (Slow Ver.) - 젬마(JEMMA)\n",
      "Dark Sun - 락다이아몬드\n",
      "Call of Silence - Red Velvet (레드벨벳)\n",
      "슬픈 행진 (Sad March) - 하진 (HAJIN)\n",
      "전쟁터 (with 이선희) - 개미\n",
      "Lost - Sawano Hiroyuki [nZk]\n",
      "Kingdom Come - 일레인\n",
      "Timeless - AKMU (악뮤)\n",
      "Control - 윤미래\n",
      "잘 알지도 못하면서 - Red Velvet (레드벨벳)\n",
      "Pandora - 비비 (BIBI)\n",
      "자각몽 (Lucid Dream) - Halsey\n",
      "다시 웃을 수 있을까 - 김예림 (Lim Kim)\n",
      "불꽃 - 락다이아몬드\n",
      "시간 - Asteria\n",
      "Lost Family - Sondia\n",
      "자각몽 - 김민승\n",
      "목소리 - 초아\n",
      "Pray - 가호 (Gaho)\n",
      "괴물, 누구인가 - 하근영\n",
      "Poker Face - 조은정\n",
      "낮은 목소리 - 모노그램\n"
     ]
    }
   ],
   "source": [
    "url(url)"
   ]
  },
  {
   "cell_type": "code",
   "execution_count": null,
   "id": "62a5ba3a",
   "metadata": {},
   "outputs": [],
   "source": []
  },
  {
   "cell_type": "markdown",
   "id": "669cc6cf",
   "metadata": {},
   "source": [
    "# 설렘"
   ]
  },
  {
   "cell_type": "code",
   "execution_count": 13,
   "id": "4d11f053",
   "metadata": {},
   "outputs": [
    {
     "name": "stdout",
     "output_type": "stream",
     "text": [
      "https://www.melon.com/mymusic/dj/mymusicdjplaylistview_inform.htm?plylstSeq=489567062\n",
      "벚꽃 엔딩 - 버스커 버스커\n",
      "우연히 봄 - 로꼬\n",
      "Love Blossom (러브블러썸) - 유주 (YUJU)\n",
      "봄인가 봐 (Spring Love) - 케이윌\n",
      "나만, 봄 - 에릭남 (Eric Nam)\n",
      "덕수궁 돌담길의 봄 (Feat. 10cm) - 웬디 (WENDY)\n",
      "Happy - 볼빨간사춘기\n",
      "봄이 좋냐?? - 윤아 (YOONA)\n",
      "봄 사랑 벚꽃 말고 - 태연 (TAEYEON)\n",
      "봄 타나봐 (BOMTANABA) - 10CM\n",
      "흔들리는 꽃들 속에서 네 샴푸향이 느껴진거야 - HIGH4 (하이포)\n",
      "봄바람 (Feat. 나얼) - 아이유\n",
      "개화 (Flowering) - 서인국\n",
      "봄 그리고 너 - 장범준\n",
      "봄날 (How Great Is Your Love) - 이문세\n",
      "Would U - LUCY\n",
      "In My Dreams - 마틴스미스\n",
      "둥둥 - 소녀시대 (GIRLS' GENERATION)\n",
      "Beautiful Beautiful - Red Velvet (레드벨벳)\n",
      "봄날에 눈이 부신 - 오마이걸 (OH MY GIRL)\n",
      "봄날의 기억 - 홍대광\n",
      "봄바람 (cliché) - 펀치 (Punch)\n",
      "그 봄, 니가 분다 - GLABINGO (글라빙고)\n",
      "같이 걸어요 (Duet. 10cm) - 빌리어코스티\n",
      "유후 (You, Who?) - 비투비\n",
      "살랑살랑 - 윤달\n",
      "Butterfly - 아날로그 썬데이 (Analogue Sunday)\n",
      "닮은거래요 - 정은지\n",
      "봄날에 만나자 (Acoustic Ver.) - 에릭남 (Eric Nam)\n",
      "4월의 그대는 - 전소미\n",
      "언제나 봄날 (Feat. EB) - CherryB (체리비)\n",
      "Be There - 유리 (YURI)\n",
      "봄이라서 그래 - 디에이드 (The Ade)\n",
      "나의 봄 (Feat. CHEEZE) - 한올\n",
      "Feel My Rhythm - Allegrow\n",
      "하늘 아래서 - 김그림\n",
      "사월 (Feat. 딘딘) - CHEEZE (치즈)\n",
      "Make Me Love You - Jessica (제시카)\n",
      "봄이 되어줄게 (prod.공기남) - 노리플라이 (no reply)\n",
      "I Feel You - Red Velvet (레드벨벳)\n",
      "My Blossom - 여자친구 (GFRIEND)\n",
      "부끄럼 - DIA (다이아)\n",
      "좋은 일만 생각하기 (Day by Day) - 태연 (TAEYEON)\n",
      "다시, 봄 - Olivia Hye (이달의 소녀)\n",
      "DREAM (Feat. 박지민 Of 15&) - 홍대광\n",
      "무지개 (Feat. 윤닭 Of 오브로젝트) - 소유 (SOYOU)\n",
      "봄봄봄이 와요 (Feat. 로코) - 멜로망스\n",
      "봄을 노래하고 있어 - 소녀시대 (GIRLS' GENERATION)\n",
      "그댄, 봄처럼 - 도대윤\n",
      "완벽한 봄날 (Feat. 소심한 오빠들) - 에릭남 (Eric Nam)\n"
     ]
    }
   ],
   "source": [
    "url(url)"
   ]
  },
  {
   "cell_type": "code",
   "execution_count": null,
   "id": "26c430de",
   "metadata": {},
   "outputs": [],
   "source": []
  },
  {
   "cell_type": "code",
   "execution_count": null,
   "id": "efcdd15c",
   "metadata": {},
   "outputs": [],
   "source": []
  },
  {
   "cell_type": "code",
   "execution_count": null,
   "id": "a406f662",
   "metadata": {},
   "outputs": [],
   "source": []
  },
  {
   "cell_type": "code",
   "execution_count": null,
   "id": "c43c7878",
   "metadata": {},
   "outputs": [],
   "source": []
  },
  {
   "cell_type": "code",
   "execution_count": null,
   "id": "d6270877",
   "metadata": {},
   "outputs": [],
   "source": []
  },
  {
   "cell_type": "code",
   "execution_count": null,
   "id": "cbaf755e",
   "metadata": {},
   "outputs": [],
   "source": []
  },
  {
   "cell_type": "code",
   "execution_count": null,
   "id": "6648bbf1",
   "metadata": {},
   "outputs": [],
   "source": []
  },
  {
   "cell_type": "code",
   "execution_count": null,
   "id": "916421c3",
   "metadata": {},
   "outputs": [],
   "source": []
  },
  {
   "cell_type": "code",
   "execution_count": null,
   "id": "929ef2bb",
   "metadata": {},
   "outputs": [],
   "source": []
  },
  {
   "cell_type": "code",
   "execution_count": null,
   "id": "97c805b4",
   "metadata": {},
   "outputs": [],
   "source": []
  },
  {
   "cell_type": "code",
   "execution_count": null,
   "id": "002b3179",
   "metadata": {},
   "outputs": [],
   "source": []
  },
  {
   "cell_type": "code",
   "execution_count": null,
   "id": "99618502",
   "metadata": {},
   "outputs": [],
   "source": []
  },
  {
   "cell_type": "code",
   "execution_count": null,
   "id": "d06a8981",
   "metadata": {},
   "outputs": [],
   "source": []
  }
 ],
 "metadata": {
  "kernelspec": {
   "display_name": "Python 3 (ipykernel)",
   "language": "python",
   "name": "python3"
  },
  "language_info": {
   "codemirror_mode": {
    "name": "ipython",
    "version": 3
   },
   "file_extension": ".py",
   "mimetype": "text/x-python",
   "name": "python",
   "nbconvert_exporter": "python",
   "pygments_lexer": "ipython3",
   "version": "3.9.7"
  }
 },
 "nbformat": 4,
 "nbformat_minor": 5
}
